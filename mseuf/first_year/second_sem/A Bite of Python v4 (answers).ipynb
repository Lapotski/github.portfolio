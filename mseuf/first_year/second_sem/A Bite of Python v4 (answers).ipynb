{
 "cells": [
  {
   "cell_type": "code",
   "execution_count": null,
   "metadata": {},
   "outputs": [],
   "source": [
    "# KYLA DESSIREI L. DEQUITO"
   ]
  },
  {
   "cell_type": "markdown",
   "metadata": {},
   "source": [
    "### <font color = 'green'>Test yourself</font>"
   ]
  },
  {
   "cell_type": "code",
   "execution_count": 121,
   "metadata": {},
   "outputs": [
    {
     "name": "stdout",
     "output_type": "stream",
     "text": [
      "You have 6645.75 pesos in total.\n"
     ]
    }
   ],
   "source": [
    "# Write a program that will accept input for the number of 25 centavos, \n",
    "# 1 peso, 5 pesos, 10 pesos, 20 pesos, 50 pesos, 100 pesos, 200 pesos\n",
    "# 500 pesos, and 1000 pesos\n",
    "# Compute and display the total amount of money\n",
    "\n",
    "centavo = int(input('Enter the amount of 25 centavos you have: '))\n",
    "one = int(input('Enter the amount of 1 peso you have: '))\n",
    "five = int(input('Enter the amount of 5 pesos you have: '))\n",
    "ten = int(input('Enter the amount of 10 pesos you have: '))\n",
    "twenty = int(input('Enter the amount of 20 pesos you have: '))\n",
    "fifty = int(input('Enter the amount of 50 pesos you have: '))\n",
    "one_h = int(input('Enter the amount of 100 pesos you have: '))\n",
    "two_h = int(input('Enter the amount of 200 pesos you have: '))\n",
    "five_h = int(input('Enter the amount of 500 pesos you have: '))\n",
    "thousand = int(input('Enter the amount of 1000 pesos you have: '))\n",
    "\n",
    "total_money = (centavo * .25) + (one * 1) + (five * 5) + (ten * 10) + (twenty * 20) + (fifty * 50) + (one_h * 100) + (two_h * 200) + (five_h * 500) + (thousand * 1000)\n",
    "\n",
    "print(f\"You have {total_money:.2f} pesos in total.\")"
   ]
  },
  {
   "cell_type": "markdown",
   "metadata": {},
   "source": [
    "### <font color = 'green'>Test yourself</font>"
   ]
  },
  {
   "cell_type": "code",
   "execution_count": 122,
   "metadata": {},
   "outputs": [
    {
     "name": "stdout",
     "output_type": "stream",
     "text": [
      "Congratulations! You passed the course!\n"
     ]
    }
   ],
   "source": [
    "# Create a program that will accept Prelim, Midterm, Semi-Final, Final, Quiz, and Project Grade. \n",
    "# Compute the final grade: FG = (prelime x 15%) + (midterm x 15%) + (semifinal x 15%) + (final x 15%) + (quiz x 25%) + (project x 15%)\n",
    "# Display a remark Congratulations! You passed the course if final grade is 75 and above; otherwise display Sorry, you failed\n",
    "\n",
    "\n",
    "prelims = int(input(\"Enter your prelim grade here: \"))\n",
    "midterms = int(input(\"Enter your midterm grade here: \"))\n",
    "semis = int(input(\"Enter your semi-final grade here: \"))\n",
    "finals = int(input(\"Enter your final grade here: \"))\n",
    "quiz = int(input(\"Enter your quiz grade here: \"))\n",
    "project = int(input(\"Enter your project grade here: \"))\n",
    "\n",
    "FG = (prelims * .15) + (midterms * .15) + (semis * .15) + (finals * .15) + (quiz * .25) + (project * .15)\n",
    "\n",
    "if FG >= 75:\n",
    "    print(\"Congratulations! You passed the course!\")\n",
    "else:\n",
    "    print(\"Sorry, you failed.\")"
   ]
  },
  {
   "cell_type": "markdown",
   "metadata": {},
   "source": [
    "### <font color = 'green'>Test yourself</font>"
   ]
  },
  {
   "cell_type": "code",
   "execution_count": 123,
   "metadata": {},
   "outputs": [
    {
     "name": "stdout",
     "output_type": "stream",
     "text": [
      "\n",
      "Factorial of 3: 6\n"
     ]
    }
   ],
   "source": [
    "# Accept an integer number.\n",
    "# Compute and display the factorial of the number.\n",
    "\n",
    "factorial = 1\n",
    "num = int(input(\"Enter an integer: \"))\n",
    "\n",
    "for i in range(1, num+1):\n",
    "    factorial *= i\n",
    "\n",
    "print(f\"Factorial of {num}: {factorial}\")"
   ]
  },
  {
   "cell_type": "code",
   "execution_count": 124,
   "metadata": {},
   "outputs": [
    {
     "name": "stdout",
     "output_type": "stream",
     "text": [
      "\n",
      "Amount of Even Numbers: 4\n",
      "Amount of Odd Numbers: 6\n"
     ]
    }
   ],
   "source": [
    "# Accept 10 Integer numbers.\n",
    "# Count and display how many odd and even number input.\n",
    "\n",
    "even = 0\n",
    "odd = 0\n",
    "\n",
    "for i in range(10):\n",
    "    num = int(input(f\"Enter integer {i+1}: \"))\n",
    "    \n",
    "    if num % 2 == 0:\n",
    "        even += 1\n",
    "    else:\n",
    "        odd += 1\n",
    "        \n",
    "print()\n",
    "print(f'Amount of Even Numbers: {even}')\n",
    "print(f'Amount of Odd Numbers: {odd}')"
   ]
  },
  {
   "cell_type": "code",
   "execution_count": 125,
   "metadata": {},
   "outputs": [
    {
     "name": "stdout",
     "output_type": "stream",
     "text": [
      "3 is a PRIME number.\n"
     ]
    }
   ],
   "source": [
    "# Input a number and display if the number is a Prime Number or Not a Prime Number\n",
    "\n",
    "n = int(input(\"Enter an integer: \"))\n",
    "\n",
    "if n <= 1:\n",
    "    print(f\"{n} is not a prime number.\")\n",
    "else:\n",
    "    prime = True\n",
    "    for i in range(2, int(n ** 0.5) + 1):\n",
    "        if n % i == 0:\n",
    "            prime = False\n",
    "            break\n",
    "    \n",
    "    if prime:\n",
    "        print(f\"{n} is a PRIME number.\")\n",
    "    else:\n",
    "        print(f\"{n} is not a prime number.\")"
   ]
  },
  {
   "cell_type": "code",
   "execution_count": 126,
   "metadata": {},
   "outputs": [
    {
     "name": "stdout",
     "output_type": "stream",
     "text": [
      "Prime numbers:\n",
      "2\n",
      "3\n",
      "5\n"
     ]
    }
   ],
   "source": [
    "# Display a series of prime numbers based on user input.\n",
    "\n",
    "n = int(input(\"Enter an integer: \"))\n",
    "\n",
    "print(\"Prime numbers:\")\n",
    "\n",
    "for i in range(1, n + 1):\n",
    "    if i <= 1:\n",
    "        continue\n",
    "    else:\n",
    "        prime = True\n",
    "        for x in range(2, int(i ** 0.5) + 1):\n",
    "            if i % x == 0:\n",
    "                prime = False\n",
    "                break\n",
    "        \n",
    "        if prime:\n",
    "            print(i)\n",
    "        else:\n",
    "            continue"
   ]
  },
  {
   "cell_type": "code",
   "execution_count": 127,
   "metadata": {},
   "outputs": [
    {
     "name": "stdout",
     "output_type": "stream",
     "text": [
      "Fibonacci sequence up to the 9th term.\n",
      "0\n",
      "1\n",
      "1\n",
      "2\n",
      "3\n",
      "5\n",
      "8\n",
      "13\n",
      "21\n"
     ]
    }
   ],
   "source": [
    "# Create a program that will ask user to input the nth Fibonacci number series.\n",
    "# Compute and display the Fibonacci number based on the input\n",
    "\n",
    "x , y = 0 , 1\n",
    "n = int(input(\"Enter an integer: \"))\n",
    "\n",
    "print(f\"Fibonacci sequence up to the {n}th term.\")\n",
    "for i in range(n):\n",
    "\n",
    "   print(x)\n",
    "\n",
    "   x, y = y, x + y"
   ]
  },
  {
   "cell_type": "markdown",
   "metadata": {},
   "source": [
    "### <font color = 'green'>Test yourself</font>"
   ]
  },
  {
   "cell_type": "code",
   "execution_count": 130,
   "metadata": {},
   "outputs": [
    {
     "name": "stdout",
     "output_type": "stream",
     "text": [
      "List: [0, 1, 2, 3, 3, 5, 7]\n",
      "List size: 7\n",
      "Highest number: 7\n",
      "Lowest number: 0\n"
     ]
    }
   ],
   "source": [
    "# Accept integer number and store it to a list until user input is 0.\n",
    "# Display the content of the list and size of the list.\n",
    "# Display the highest and lowest numbers.\n",
    "\n",
    "numbers = []\n",
    "n = None\n",
    "\n",
    "while n != 0:\n",
    "    n = int(input(\"Enter an integer: \"))\n",
    "    numbers.append(n)\n",
    "\n",
    "print(f'List: {sorted(numbers)}')\n",
    "print(f'List size: {len(numbers)}')\n",
    "print(f'Highest number: {max(numbers)}')\n",
    "print(f'Lowest number: {min(numbers)}')"
   ]
  },
  {
   "cell_type": "code",
   "execution_count": 131,
   "metadata": {},
   "outputs": [
    {
     "name": "stdout",
     "output_type": "stream",
     "text": [
      "List: [0, 1, 2, 3, 3, 5, 6]\n",
      "List size: 7\n",
      "Highest number: 6\n",
      "Found at index: 6\n",
      "Lowest number: 0\n",
      "Found at index: 0\n"
     ]
    }
   ],
   "source": [
    "# Accept integer number and store it to a list until user input is 0.\n",
    "# Display the content of the list and size of the list.\n",
    "# Display the highest and lowest numbers in the list and the index number it can be found.\n",
    "\n",
    "numbers = []\n",
    "n = None\n",
    "\n",
    "while n != 0:\n",
    "    n = int(input(\"Enter an integer: \"))\n",
    "    numbers.append(n)\n",
    "\n",
    "numbers.sort()\n",
    "\n",
    "print(f'List: {numbers}')\n",
    "print(f'List size: {len(numbers)}')\n",
    "print(f'Highest number: {max(numbers)}')\n",
    "print(f'Found at index: {numbers.index(max(numbers))}')\n",
    "print(f'Lowest number: {min(numbers)}')\n",
    "print(f'Found at index: {numbers.index(min(numbers))}')"
   ]
  },
  {
   "cell_type": "code",
   "execution_count": 132,
   "metadata": {},
   "outputs": [
    {
     "name": "stdout",
     "output_type": "stream",
     "text": [
      "Fruits that start with a vowel: ['apple', 'orange']\n",
      "Fruits that start with a consonant: ['banana']\n"
     ]
    }
   ],
   "source": [
    "# Create a Python program that will demonstrate list comprehension.\n",
    "\n",
    "size = int(input(\"Enter number of types of fruits: \"))\n",
    "fruits = []\n",
    "\n",
    "for i in range(size):\n",
    "    fruit = input(f'Enter fruit {i+1}: ')\n",
    "    fruits.append(fruit)\n",
    "    \n",
    "vowels = [fruit for fruit in fruits if fruit[0] in 'aeiou']\n",
    "consonants = [fruit for fruit in fruits if fruit[0] not in 'aeiou']\n",
    "\n",
    "print(f'Fruits that start with a vowel: {vowels}')\n",
    "print(f'Fruits that start with a consonant: {consonants}')"
   ]
  },
  {
   "cell_type": "markdown",
   "metadata": {},
   "source": [
    "### <font color = 'green'>Test yourself</font>"
   ]
  },
  {
   "cell_type": "code",
   "execution_count": 133,
   "metadata": {},
   "outputs": [
    {
     "name": "stdout",
     "output_type": "stream",
     "text": [
      "Students' grades: {'John': 90, 'Trace': 78}\n",
      "Student with highest grades: John with a 90\n",
      "Student with lowest grades: Trace with a 78\n"
     ]
    }
   ],
   "source": [
    "# Accept student name and grade and save it to a dictionary.\n",
    "# Display the content of the dictionary.\n",
    "# Display the name  and grade of student with the highest and lowest grade.\n",
    "\n",
    "grades_dict = {}\n",
    "\n",
    "num = int(input(\"Amount of students you wish to grade: \"))\n",
    "\n",
    "for i in range(num):\n",
    "    student = input(f\"Name of Student {i+1}: \")\n",
    "    student = student.capitalize()\n",
    "    grade = int(input(f\"Grade of {student}: \"))\n",
    "    grades_dict[student] = grade\n",
    "    \n",
    "highest = max(grades_dict, key = grades_dict.get)\n",
    "lowest = min(grades_dict, key = grades_dict.get)\n",
    "\n",
    "print(f\"Students' grades: {grades_dict}\")\n",
    "print(f\"Student with highest grades: {highest} with a {grades_dict[highest]}\")\n",
    "print(f\"Student with lowest grades: {lowest} with a {grades_dict[lowest]}\")"
   ]
  },
  {
   "cell_type": "markdown",
   "metadata": {},
   "source": [
    "### <font color = 'green'>Test yourself</font>"
   ]
  },
  {
   "cell_type": "code",
   "execution_count": 10,
   "metadata": {},
   "outputs": [
    {
     "name": "stdout",
     "output_type": "stream",
     "text": [
      "h\n",
      "i\n",
      "p\n",
      "p\n",
      "o\n",
      "p\n",
      "o\n",
      "t\n",
      "a\n",
      "m\n",
      "u\n",
      "s\n",
      "Number of i in hippopotamus: 1\n"
     ]
    }
   ],
   "source": [
    "# Accept string input.\n",
    "# Display each charter of the string (vertical order)\n",
    "# Count and display total i charter in the string.\n",
    "\n",
    "word = str(input(\"Enter a word: \"))\n",
    "\n",
    "for i in (word):\n",
    "    print(i)\n",
    "    \n",
    "count = (word.lower()).count(\"i\")\n",
    "print(f\"Number of i in {word}: {count}\")\n"
   ]
  },
  {
   "cell_type": "code",
   "execution_count": 11,
   "metadata": {},
   "outputs": [
    {
     "name": "stdout",
     "output_type": "stream",
     "text": [
      "Number of vowels: 2\n",
      "Number of consonants: 2\n",
      "Word reversed: ecin\n"
     ]
    }
   ],
   "source": [
    "# Accept string input.\n",
    "# Count vowel and consonant characters in the string.\n",
    "# Display the string in reverse order.\n",
    "\n",
    "vowels = 0\n",
    "consonants = 0\n",
    "word = str(input(\"Enter a word: \"))\n",
    "lenght = len(word)\n",
    "\n",
    "for i in range (0, len(word)):\n",
    "    if word[i] in \"aeiou\":\n",
    "        vowels += 1\n",
    "    else:\n",
    "        consonants += 1\n",
    "    \n",
    "print(f\"Number of vowels: {vowels}\")\n",
    "print(f\"Number of consonants: {consonants}\")\n",
    "\n",
    "reverse = word[::-1]\n",
    "print(f\"Word reversed: {reverse}\")"
   ]
  },
  {
   "cell_type": "code",
   "execution_count": 12,
   "metadata": {},
   "outputs": [
    {
     "name": "stdout",
     "output_type": "stream",
     "text": [
      "Left is NOT a palindrome.\n"
     ]
    }
   ],
   "source": [
    "# Accept string input.\n",
    "# Display if the string is Palindrome or Not a Palindrome\n",
    "\n",
    "word = str(input(\"Enter a word: \"))\n",
    "word = word.lower()\n",
    "reverse = word[::-1]\n",
    "\n",
    "if word == reverse:\n",
    "    print(f\"{word.capitalize()} is a PALINDROME.\")\n",
    "else:\n",
    "    print(f\"{word.capitalize()} is NOT a palindrome.\")"
   ]
  },
  {
   "cell_type": "markdown",
   "metadata": {},
   "source": [
    "### <font color = 'green'>Test yourself</font>"
   ]
  },
  {
   "cell_type": "code",
   "execution_count": 14,
   "metadata": {},
   "outputs": [
    {
     "name": "stdout",
     "output_type": "stream",
     "text": [
      "\n",
      "1. Bill Splitter\n",
      "2. Tip Calculator\n",
      "3. Exit\n",
      "\n",
      "Tip Calculator\n",
      "Tip Amount: 300.00\n",
      "\n",
      "1. Bill Splitter\n",
      "2. Tip Calculator\n",
      "3. Exit\n",
      "\n",
      "Exiting the program. Goodbye!\n"
     ]
    }
   ],
   "source": [
    "# Create a Python program that will use at least 3 user-defined function. Demonstrate function with return value and void function.\n",
    "\n",
    "def main():\n",
    "    while True:\n",
    "        print()\n",
    "        print(\"1. Bill Splitter\")\n",
    "        print(\"2. Tip Calculator\")\n",
    "        print(\"3. Exit\")\n",
    "        \n",
    "        choice = int(input(\"Enter your choice (1-3): \"))\n",
    "        \n",
    "        if choice == 1:\n",
    "            bill_splitter()\n",
    "        elif choice == 2:\n",
    "            tip_calculator()\n",
    "        elif choice == 3:\n",
    "            print(\"\\nExiting the program. Goodbye!\")\n",
    "            break\n",
    "        else:\n",
    "            print(\"\\nInvalid choice. Please try again.\")\n",
    "            \n",
    "def bill_splitter():\n",
    "    print(\"\\nBill Splitter\")\n",
    "    total = eval(input(\"Enter total amount spent: \"))\n",
    "    people = int(input(\"Amount of people to split with: \"))\n",
    "    \n",
    "    return print(f\"Cost per person: {(total / people):.2f}\")\n",
    "\n",
    "def tip_calculator():\n",
    "    print(\"\\nTip Calculator\")\n",
    "    total = eval(input(\"Enter total amount spent: \"))\n",
    "    tip = str(input(\"Tip percentage: \"))\n",
    "    tip = \".\" + tip\n",
    "    tip = float(tip)\n",
    "    \n",
    "    return print(f\"Tip Amount: {(total * tip):.2f}\")\n",
    "\n",
    "if __name__ == \"__main__\":\n",
    "    main()\n"
   ]
  },
  {
   "cell_type": "markdown",
   "metadata": {},
   "source": [
    "### <font color = 'green'>Test yourself</font>"
   ]
  },
  {
   "cell_type": "code",
   "execution_count": 16,
   "metadata": {},
   "outputs": [
    {
     "name": "stdout",
     "output_type": "stream",
     "text": [
      "Enter 3 integers separated by enter: \n",
      "[1, 5, 2]\n",
      "Maximum value: 5\n"
     ]
    }
   ],
   "source": [
    "# Create a Python program that will demonstrate lambda.\n",
    "\n",
    "size = int(input(\"Enter the size of the array: \"))\n",
    "print(f\"Enter {size} integers separated by enter: \")\n",
    "\n",
    "num = [int(input()) for i in range (size)]\n",
    "\n",
    "maxValue = lambda nums:max(nums)\n",
    "print(num)\n",
    "print(f\"Maximum value: {maxValue(num)}\")"
   ]
  }
 ],
 "metadata": {
  "kernelspec": {
   "display_name": "Python 3",
   "language": "python",
   "name": "python3"
  },
  "language_info": {
   "codemirror_mode": {
    "name": "ipython",
    "version": 3
   },
   "file_extension": ".py",
   "mimetype": "text/x-python",
   "name": "python",
   "nbconvert_exporter": "python",
   "pygments_lexer": "ipython3",
   "version": "3.13.0"
  }
 },
 "nbformat": 4,
 "nbformat_minor": 4
}
