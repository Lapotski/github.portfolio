{
 "cells": [
  {
   "cell_type": "code",
   "execution_count": 1,
   "id": "d2d8322c",
   "metadata": {
    "scrolled": true
   },
   "outputs": [
    {
     "name": "stdout",
     "output_type": "stream",
     "text": [
      "Python include the following:\n",
      "Python is a high-level language intended to be relatively\n",
      "Python is an interpreter and when we are running Python interactively,\n",
      "Python program to count the words than it would be to manually\n",
      "Python takes our perfectly written programs and rejects them as\n",
      "Python is much more like a dog, loving you unconditionally, having a few\n",
      "Python does its best to point right at the line and character where\n"
     ]
    }
   ],
   "source": [
    "#Search for lines that start with Python\n",
    "\n",
    "import re\n",
    "\n",
    "file = open(\"regex_sum_42.txt\")\n",
    "\n",
    "for line in file:\n",
    "    line = line.rstrip()\n",
    "    if re.search('^Python', line):\n",
    "        print(line)"
   ]
  },
  {
   "cell_type": "code",
   "execution_count": 36,
   "id": "6eb3c066",
   "metadata": {},
   "outputs": [
    {
     "name": "stdout",
     "output_type": "stream",
     "text": [
      "The sum of all numbers is 445833\n",
      "The highest number is 9795\n"
     ]
    }
   ],
   "source": [
    "#Finds all numbers and calculates the sum and finds the highest number\n",
    "\n",
    "import re\n",
    "\n",
    "file = open(\"regex_sum_42.txt\")\n",
    "num_list = []\n",
    "\n",
    "for line in file:\n",
    "    line = line.rstrip()\n",
    "    num = re.findall('[0-9]+', line)\n",
    "    if len(num) > 0:\n",
    "        while len(num) != 0:\n",
    "            y = num.pop(0)\n",
    "            y = int(y)\n",
    "            num_list.append(y)\n",
    "            \n",
    "                 \n",
    "print(f'The sum of all numbers is {sum(num_list)}')\n",
    "print(f'The highest number is {max(num_list)}')\n"
   ]
  },
  {
   "cell_type": "code",
   "execution_count": 9,
   "id": "4ae6140c",
   "metadata": {},
   "outputs": [
    {
     "name": "stdout",
     "output_type": "stream",
     "text": [
      "The total vowel count is 8361\n"
     ]
    }
   ],
   "source": [
    "#find all vowels and count them\n",
    "import re\n",
    "\n",
    "file = open(\"regex_sum_42.txt\")\n",
    "vowels = []\n",
    "import re\n",
    "\n",
    "file = open(\"regex_sum_42.txt\")\n",
    "\n",
    "for line in file:\n",
    "    line = line.rstrip()\n",
    "    x = re.findall('[aeiouAEIOU]', line)\n",
    "    if len(x) > 0:\n",
    "        vowels+=x\n",
    "        \n",
    "print(f\"The total vowel count is {len(vowels)}\")"
   ]
  },
  {
   "cell_type": "code",
   "execution_count": 1,
   "id": "7ca2b182",
   "metadata": {},
   "outputs": [
    {
     "name": "stdout",
     "output_type": "stream",
     "text": [
      "Python word count is 103\n"
     ]
    }
   ],
   "source": [
    "#find all instances of 'Python' and count them\n",
    "import re\n",
    "\n",
    "file = open(\"regex_sum_42.txt\")\n",
    "python_list = []\n",
    "import re\n",
    "\n",
    "file = open(\"regex_sum_42.txt\")\n",
    "\n",
    "for line in file:\n",
    "    line = line.rstrip()\n",
    "    x = re.findall('(Python)', line)\n",
    "    if len(x) > 0:\n",
    "        python_list+=x\n",
    "        \n",
    "print(f'Python word count is {len(python_list)}')"
   ]
  },
  {
   "cell_type": "code",
   "execution_count": null,
   "id": "93dc6dd2",
   "metadata": {},
   "outputs": [],
   "source": []
  }
 ],
 "metadata": {
  "kernelspec": {
   "display_name": "Python 3 (ipykernel)",
   "language": "python",
   "name": "python3"
  },
  "language_info": {
   "codemirror_mode": {
    "name": "ipython",
    "version": 3
   },
   "file_extension": ".py",
   "mimetype": "text/x-python",
   "name": "python",
   "nbconvert_exporter": "python",
   "pygments_lexer": "ipython3",
   "version": "3.10.9"
  }
 },
 "nbformat": 4,
 "nbformat_minor": 5
}
